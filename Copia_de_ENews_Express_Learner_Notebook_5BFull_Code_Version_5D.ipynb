{
  "cells": [
    {
      "attachments": {},
      "cell_type": "markdown",
      "id": "6yDxo9u0d9Na",
      "metadata": {
        "id": "6yDxo9u0d9Na"
      },
      "source": [
        "# Project Business Statistics: E-news Express\n",
        "\n",
        "**Marks: 60**"
      ]
    },
    {
      "attachments": {},
      "cell_type": "markdown",
      "id": "SrLd-ICEmPSD",
      "metadata": {
        "id": "SrLd-ICEmPSD"
      },
      "source": [
        "## Define Problem Statement and Objectives"
      ]
    },
    {
      "attachments": {},
      "cell_type": "markdown",
      "id": "9Vt1PLLqmXNn",
      "metadata": {
        "id": "9Vt1PLLqmXNn"
      },
      "source": [
        "##Business Context\n",
        "The advent of e-news, or electronic news, portals has offered us a great opportunity to quickly get updates on the day-to-day events occurring globally. The information on these portals is retrieved electronically from online databases, processed using a variety of software, and then transmitted to the users. There are multiple advantages of transmitting new electronically, like faster access to the content and the ability to utilize different technologies such as audio, graphics, video, and other interactive elements that are either not being used or aren’t common yet in traditional newspapers.\n",
        "\n",
        "E-news Express, an online news portal, aims to expand its business by acquiring new subscribers. With every visitor to the website taking certain actions based on their interest, the company plans to analyze these actions to understand user interests and determine how to drive better engagement. The executives at E-news Express are of the opinion that there has been a decline in new monthly subscribers compared to the past year because the current webpage is not designed well enough in terms of the outline & recommended content to keep customers engaged long enough to make a decision to subscribe.\n",
        "\n",
        "[Companies often analyze user responses to two variants of a product to decide which of the two variants is more effective. This experimental technique, known as A/B testing, is used to determine whether a new feature attracts users based on a chosen metric.]\n",
        "\n",
        "##Objective\n",
        "The design team of the company has researched and created a new landing page that has a new outline & more relevant content shown compared to the old page. In order to test the effectiveness of the new landing page in gathering new subscribers, the Data Science team conducted an experiment by randomly selecting 100 users and dividing them equally into two groups. The existing landing page was served to the first group (control group) and the new landing page to the second group (treatment group). Data regarding the interaction of users in both groups with the two versions of the landing page was collected. Being a data scientist in E-news Express, you have been asked to explore the data and perform a statistical analysis (at a significance level of 5%) to determine the effectiveness of the new landing page in gathering new subscribers for the news portal by answering the following questions:\n",
        "\n",
        " \n",
        "\n",
        "1.   Do the users spend more time on the new landing page than on the existing landing page?\n",
        "2.   Is the conversion rate (the proportion of users who visit the landing page and get converted) for the new page greater than the conversion rate for the old page?\n",
        "3.   Does the converted status depend on the preferred language?\n",
        "4.   Is the time spent on the new page the same for the different language users?\n",
        " \n",
        "\n",
        "##Data Dictionary\n",
        "The data contains information regarding the interaction of users in both groups with the two versions of the landing page.\n",
        "\n",
        "1.  user_id - Unique user ID of the person visiting the website\n",
        "2.  group - Whether the user belongs to the first group (control) or the second  group (treatment)\n",
        "3.  landing_page - Whether the landing page is new or old\n",
        "4.  time_spent_on_the_page - Time (in minutes) spent by the user on the landing page\n",
        "5.  converted - Whether the user gets converted to a subscriber of the news portal or not\n",
        "6.  language_preferred - Language chosen by the user to view the landing page"
      ]
    },
    {
      "attachments": {},
      "cell_type": "markdown",
      "id": "a6a3d218",
      "metadata": {
        "id": "a6a3d218"
      },
      "source": [
        "## Import all the necessary libraries"
      ]
    },
    {
      "cell_type": "code",
      "execution_count": 1,
      "id": "658c5dec",
      "metadata": {
        "colab": {
          "base_uri": "https://localhost:8080/"
        },
        "id": "658c5dec",
        "outputId": "d995d08b-a952-4522-b2e0-73acf1e4029a"
      },
      "outputs": [],
      "source": [
        "# Libraries to help with reading and manipulating data\n",
        "import pandas as pd\n",
        "import numpy as np\n",
        "\n",
        "# Libraries to help with data visualization\n",
        "import matplotlib.pyplot as plt\n",
        "import seaborn as sns\n",
        "%matplotlib inline \n",
        "\n",
        "# Library to help with statistical analysis\n",
        "import scipy.stats as stats "
      ]
    },
    {
      "attachments": {},
      "cell_type": "markdown",
      "id": "6970dd99",
      "metadata": {
        "id": "6970dd99"
      },
      "source": [
        "## Reading the Data into a DataFrame"
      ]
    },
    {
      "cell_type": "code",
      "execution_count": 2,
      "id": "d3b95640",
      "metadata": {
        "id": "d3b95640"
      },
      "outputs": [],
      "source": [
        "# read the data\n",
        "data = pd.read_csv('abtest.csv')\n",
        "df=data.copy()"
      ]
    },
    {
      "attachments": {},
      "cell_type": "markdown",
      "id": "9d75cfa2",
      "metadata": {
        "id": "9d75cfa2"
      },
      "source": [
        "## Explore the dataset and extract insights using Exploratory Data Analysis"
      ]
    },
    {
      "attachments": {},
      "cell_type": "markdown",
      "id": "27201534",
      "metadata": {
        "id": "27201534"
      },
      "source": [
        "- Data Overview\n",
        "  - Viewing the first and last few rows of the dataset\n",
        "  - Checking the shape of the dataset\n",
        "  - Getting the statistical summary for the variables\n",
        "- Check for missing values\n",
        "- Check for duplicates"
      ]
    },
    {
      "cell_type": "code",
      "execution_count": 3,
      "id": "e1ad11d4",
      "metadata": {
        "colab": {
          "base_uri": "https://localhost:8080/",
          "height": 206
        },
        "id": "e1ad11d4",
        "outputId": "47468b48-33d2-4d95-fd48-60fed1e5740d"
      },
      "outputs": [
        {
          "data": {
            "text/html": [
              "<div>\n",
              "<style scoped>\n",
              "    .dataframe tbody tr th:only-of-type {\n",
              "        vertical-align: middle;\n",
              "    }\n",
              "\n",
              "    .dataframe tbody tr th {\n",
              "        vertical-align: top;\n",
              "    }\n",
              "\n",
              "    .dataframe thead th {\n",
              "        text-align: right;\n",
              "    }\n",
              "</style>\n",
              "<table border=\"1\" class=\"dataframe\">\n",
              "  <thead>\n",
              "    <tr style=\"text-align: right;\">\n",
              "      <th></th>\n",
              "      <th>user_id</th>\n",
              "      <th>group</th>\n",
              "      <th>landing_page</th>\n",
              "      <th>time_spent_on_the_page</th>\n",
              "      <th>converted</th>\n",
              "      <th>language_preferred</th>\n",
              "    </tr>\n",
              "  </thead>\n",
              "  <tbody>\n",
              "    <tr>\n",
              "      <th>0</th>\n",
              "      <td>546592</td>\n",
              "      <td>control</td>\n",
              "      <td>old</td>\n",
              "      <td>3.48</td>\n",
              "      <td>no</td>\n",
              "      <td>Spanish</td>\n",
              "    </tr>\n",
              "    <tr>\n",
              "      <th>1</th>\n",
              "      <td>546468</td>\n",
              "      <td>treatment</td>\n",
              "      <td>new</td>\n",
              "      <td>7.13</td>\n",
              "      <td>yes</td>\n",
              "      <td>English</td>\n",
              "    </tr>\n",
              "    <tr>\n",
              "      <th>2</th>\n",
              "      <td>546462</td>\n",
              "      <td>treatment</td>\n",
              "      <td>new</td>\n",
              "      <td>4.40</td>\n",
              "      <td>no</td>\n",
              "      <td>Spanish</td>\n",
              "    </tr>\n",
              "    <tr>\n",
              "      <th>3</th>\n",
              "      <td>546567</td>\n",
              "      <td>control</td>\n",
              "      <td>old</td>\n",
              "      <td>3.02</td>\n",
              "      <td>no</td>\n",
              "      <td>French</td>\n",
              "    </tr>\n",
              "    <tr>\n",
              "      <th>4</th>\n",
              "      <td>546459</td>\n",
              "      <td>treatment</td>\n",
              "      <td>new</td>\n",
              "      <td>4.75</td>\n",
              "      <td>yes</td>\n",
              "      <td>Spanish</td>\n",
              "    </tr>\n",
              "  </tbody>\n",
              "</table>\n",
              "</div>"
            ],
            "text/plain": [
              "   user_id      group landing_page  time_spent_on_the_page converted  \\\n",
              "0   546592    control          old                    3.48        no   \n",
              "1   546468  treatment          new                    7.13       yes   \n",
              "2   546462  treatment          new                    4.40        no   \n",
              "3   546567    control          old                    3.02        no   \n",
              "4   546459  treatment          new                    4.75       yes   \n",
              "\n",
              "  language_preferred  \n",
              "0            Spanish  \n",
              "1            English  \n",
              "2            Spanish  \n",
              "3             French  \n",
              "4            Spanish  "
            ]
          },
          "execution_count": 3,
          "metadata": {},
          "output_type": "execute_result"
        }
      ],
      "source": [
        "df.head()"
      ]
    },
    {
      "cell_type": "code",
      "execution_count": 4,
      "id": "Bi8B0svIkC_r",
      "metadata": {
        "colab": {
          "base_uri": "https://localhost:8080/",
          "height": 206
        },
        "id": "Bi8B0svIkC_r",
        "outputId": "92e1f698-9e92-402c-d2eb-58c535b7f601"
      },
      "outputs": [
        {
          "data": {
            "text/html": [
              "<div>\n",
              "<style scoped>\n",
              "    .dataframe tbody tr th:only-of-type {\n",
              "        vertical-align: middle;\n",
              "    }\n",
              "\n",
              "    .dataframe tbody tr th {\n",
              "        vertical-align: top;\n",
              "    }\n",
              "\n",
              "    .dataframe thead th {\n",
              "        text-align: right;\n",
              "    }\n",
              "</style>\n",
              "<table border=\"1\" class=\"dataframe\">\n",
              "  <thead>\n",
              "    <tr style=\"text-align: right;\">\n",
              "      <th></th>\n",
              "      <th>user_id</th>\n",
              "      <th>group</th>\n",
              "      <th>landing_page</th>\n",
              "      <th>time_spent_on_the_page</th>\n",
              "      <th>converted</th>\n",
              "      <th>language_preferred</th>\n",
              "    </tr>\n",
              "  </thead>\n",
              "  <tbody>\n",
              "    <tr>\n",
              "      <th>95</th>\n",
              "      <td>546446</td>\n",
              "      <td>treatment</td>\n",
              "      <td>new</td>\n",
              "      <td>5.15</td>\n",
              "      <td>no</td>\n",
              "      <td>Spanish</td>\n",
              "    </tr>\n",
              "    <tr>\n",
              "      <th>96</th>\n",
              "      <td>546544</td>\n",
              "      <td>control</td>\n",
              "      <td>old</td>\n",
              "      <td>6.52</td>\n",
              "      <td>yes</td>\n",
              "      <td>English</td>\n",
              "    </tr>\n",
              "    <tr>\n",
              "      <th>97</th>\n",
              "      <td>546472</td>\n",
              "      <td>treatment</td>\n",
              "      <td>new</td>\n",
              "      <td>7.07</td>\n",
              "      <td>yes</td>\n",
              "      <td>Spanish</td>\n",
              "    </tr>\n",
              "    <tr>\n",
              "      <th>98</th>\n",
              "      <td>546481</td>\n",
              "      <td>treatment</td>\n",
              "      <td>new</td>\n",
              "      <td>6.20</td>\n",
              "      <td>yes</td>\n",
              "      <td>Spanish</td>\n",
              "    </tr>\n",
              "    <tr>\n",
              "      <th>99</th>\n",
              "      <td>546483</td>\n",
              "      <td>treatment</td>\n",
              "      <td>new</td>\n",
              "      <td>5.86</td>\n",
              "      <td>yes</td>\n",
              "      <td>English</td>\n",
              "    </tr>\n",
              "  </tbody>\n",
              "</table>\n",
              "</div>"
            ],
            "text/plain": [
              "    user_id      group landing_page  time_spent_on_the_page converted  \\\n",
              "95   546446  treatment          new                    5.15        no   \n",
              "96   546544    control          old                    6.52       yes   \n",
              "97   546472  treatment          new                    7.07       yes   \n",
              "98   546481  treatment          new                    6.20       yes   \n",
              "99   546483  treatment          new                    5.86       yes   \n",
              "\n",
              "   language_preferred  \n",
              "95            Spanish  \n",
              "96            English  \n",
              "97            Spanish  \n",
              "98            Spanish  \n",
              "99            English  "
            ]
          },
          "execution_count": 4,
          "metadata": {},
          "output_type": "execute_result"
        }
      ],
      "source": [
        "df.tail()"
      ]
    },
    {
      "cell_type": "code",
      "execution_count": 5,
      "id": "2D0EeagAlX52",
      "metadata": {
        "colab": {
          "base_uri": "https://localhost:8080/"
        },
        "id": "2D0EeagAlX52",
        "outputId": "16fac2f5-8555-42e6-8b3a-0b157ef8f33b"
      },
      "outputs": [
        {
          "name": "stdout",
          "output_type": "stream",
          "text": [
            "<class 'pandas.core.frame.DataFrame'>\n",
            "RangeIndex: 100 entries, 0 to 99\n",
            "Data columns (total 6 columns):\n",
            " #   Column                  Non-Null Count  Dtype  \n",
            "---  ------                  --------------  -----  \n",
            " 0   user_id                 100 non-null    int64  \n",
            " 1   group                   100 non-null    object \n",
            " 2   landing_page            100 non-null    object \n",
            " 3   time_spent_on_the_page  100 non-null    float64\n",
            " 4   converted               100 non-null    object \n",
            " 5   language_preferred      100 non-null    object \n",
            "dtypes: float64(1), int64(1), object(4)\n",
            "memory usage: 4.8+ KB\n"
          ]
        }
      ],
      "source": [
        "df.info()"
      ]
    },
    {
      "cell_type": "code",
      "execution_count": 6,
      "id": "zMVKEwChjxrg",
      "metadata": {
        "colab": {
          "base_uri": "https://localhost:8080/"
        },
        "id": "zMVKEwChjxrg",
        "outputId": "a9b71d65-a711-47aa-808b-fa6230b59191"
      },
      "outputs": [
        {
          "name": "stdout",
          "output_type": "stream",
          "text": [
            "There are 100 Rows, and 6 columns\n"
          ]
        }
      ],
      "source": [
        "print('There are',df.shape[0],'Rows, and', df.shape[1], 'columns') #.Shape[0] give us the rows and shape[1] the columns"
      ]
    },
    {
      "cell_type": "code",
      "execution_count": 7,
      "id": "vUZkJOeRkInT",
      "metadata": {
        "colab": {
          "base_uri": "https://localhost:8080/",
          "height": 112
        },
        "id": "vUZkJOeRkInT",
        "outputId": "64e7833e-30fc-4460-a582-9cc21798c83a"
      },
      "outputs": [
        {
          "data": {
            "text/html": [
              "<div>\n",
              "<style scoped>\n",
              "    .dataframe tbody tr th:only-of-type {\n",
              "        vertical-align: middle;\n",
              "    }\n",
              "\n",
              "    .dataframe tbody tr th {\n",
              "        vertical-align: top;\n",
              "    }\n",
              "\n",
              "    .dataframe thead th {\n",
              "        text-align: right;\n",
              "    }\n",
              "</style>\n",
              "<table border=\"1\" class=\"dataframe\">\n",
              "  <thead>\n",
              "    <tr style=\"text-align: right;\">\n",
              "      <th></th>\n",
              "      <th>count</th>\n",
              "      <th>mean</th>\n",
              "      <th>std</th>\n",
              "      <th>min</th>\n",
              "      <th>25%</th>\n",
              "      <th>50%</th>\n",
              "      <th>75%</th>\n",
              "      <th>max</th>\n",
              "    </tr>\n",
              "  </thead>\n",
              "  <tbody>\n",
              "    <tr>\n",
              "      <th>user_id</th>\n",
              "      <td>100.0</td>\n",
              "      <td>546517.0000</td>\n",
              "      <td>52.295779</td>\n",
              "      <td>546443.00</td>\n",
              "      <td>546467.75</td>\n",
              "      <td>546492.500</td>\n",
              "      <td>546567.2500</td>\n",
              "      <td>546592.00</td>\n",
              "    </tr>\n",
              "    <tr>\n",
              "      <th>time_spent_on_the_page</th>\n",
              "      <td>100.0</td>\n",
              "      <td>5.3778</td>\n",
              "      <td>2.378166</td>\n",
              "      <td>0.19</td>\n",
              "      <td>3.88</td>\n",
              "      <td>5.415</td>\n",
              "      <td>7.0225</td>\n",
              "      <td>10.71</td>\n",
              "    </tr>\n",
              "  </tbody>\n",
              "</table>\n",
              "</div>"
            ],
            "text/plain": [
              "                        count         mean        std        min        25%  \\\n",
              "user_id                 100.0  546517.0000  52.295779  546443.00  546467.75   \n",
              "time_spent_on_the_page  100.0       5.3778   2.378166       0.19       3.88   \n",
              "\n",
              "                               50%          75%        max  \n",
              "user_id                 546492.500  546567.2500  546592.00  \n",
              "time_spent_on_the_page       5.415       7.0225      10.71  "
            ]
          },
          "execution_count": 7,
          "metadata": {},
          "output_type": "execute_result"
        }
      ],
      "source": [
        "df.describe().T"
      ]
    },
    {
      "cell_type": "code",
      "execution_count": 8,
      "id": "3GWB4eu6kYpB",
      "metadata": {
        "colab": {
          "base_uri": "https://localhost:8080/",
          "height": 238
        },
        "id": "3GWB4eu6kYpB",
        "outputId": "b0667b31-0de5-4378-c531-2c26047bffbd"
      },
      "outputs": [
        {
          "data": {
            "text/html": [
              "<div>\n",
              "<style scoped>\n",
              "    .dataframe tbody tr th:only-of-type {\n",
              "        vertical-align: middle;\n",
              "    }\n",
              "\n",
              "    .dataframe tbody tr th {\n",
              "        vertical-align: top;\n",
              "    }\n",
              "\n",
              "    .dataframe thead th {\n",
              "        text-align: right;\n",
              "    }\n",
              "</style>\n",
              "<table border=\"1\" class=\"dataframe\">\n",
              "  <thead>\n",
              "    <tr style=\"text-align: right;\">\n",
              "      <th></th>\n",
              "      <th>Count</th>\n",
              "    </tr>\n",
              "  </thead>\n",
              "  <tbody>\n",
              "    <tr>\n",
              "      <th>user_id</th>\n",
              "      <td>0</td>\n",
              "    </tr>\n",
              "    <tr>\n",
              "      <th>group</th>\n",
              "      <td>0</td>\n",
              "    </tr>\n",
              "    <tr>\n",
              "      <th>landing_page</th>\n",
              "      <td>0</td>\n",
              "    </tr>\n",
              "    <tr>\n",
              "      <th>time_spent_on_the_page</th>\n",
              "      <td>0</td>\n",
              "    </tr>\n",
              "    <tr>\n",
              "      <th>converted</th>\n",
              "      <td>0</td>\n",
              "    </tr>\n",
              "    <tr>\n",
              "      <th>language_preferred</th>\n",
              "      <td>0</td>\n",
              "    </tr>\n",
              "  </tbody>\n",
              "</table>\n",
              "</div>"
            ],
            "text/plain": [
              "                        Count\n",
              "user_id                     0\n",
              "group                       0\n",
              "landing_page                0\n",
              "time_spent_on_the_page      0\n",
              "converted                   0\n",
              "language_preferred          0"
            ]
          },
          "execution_count": 8,
          "metadata": {},
          "output_type": "execute_result"
        }
      ],
      "source": [
        "pd.DataFrame({'Count': df.isnull().sum()})"
      ]
    },
    {
      "cell_type": "code",
      "execution_count": 9,
      "id": "qZ5ageGVkeRn",
      "metadata": {
        "colab": {
          "base_uri": "https://localhost:8080/"
        },
        "id": "qZ5ageGVkeRn",
        "outputId": "ef542573-40a1-481e-93e3-0d35963e2769"
      },
      "outputs": [
        {
          "data": {
            "text/plain": [
              "0"
            ]
          },
          "execution_count": 9,
          "metadata": {},
          "output_type": "execute_result"
        }
      ],
      "source": [
        "duplicates=df.duplicated().sum()\n",
        "duplicates"
      ]
    },
    {
      "attachments": {},
      "cell_type": "markdown",
      "id": "5VSGT96-jgJz",
      "metadata": {
        "id": "5VSGT96-jgJz"
      },
      "source": [
        "#### Observations:\n",
        "\n",
        "- There are 6 columns with 100 rows and no missing values.\n",
        "- There are no duplicate values.\n",
        "- The column user_id is interpreted as a numerical column but is actually categorical.\n",
        "- The only numerical data type is time_spent_on_the_page.\n",
        "- Average time spent on the page is around 5 min 38 sec.\n",
        "- Min time spent on the page is 19 sec\n",
        "- Max time spent on the page is 10 min 71 sec\n"
      ]
    },
    {
      "attachments": {},
      "cell_type": "markdown",
      "id": "68f3b2c9",
      "metadata": {
        "id": "68f3b2c9"
      },
      "source": [
        "### Univariate Analysis"
      ]
    },
    {
      "cell_type": "code",
      "execution_count": 10,
      "id": "1932d0f3",
      "metadata": {
        "colab": {
          "base_uri": "https://localhost:8080/"
        },
        "id": "1932d0f3",
        "outputId": "b9084c76-bc10-4876-947c-c68af13e01c3"
      },
      "outputs": [
        {
          "data": {
            "text/plain": [
              "100"
            ]
          },
          "execution_count": 10,
          "metadata": {},
          "output_type": "execute_result"
        }
      ],
      "source": [
        "df['user_id'].nunique()"
      ]
    },
    {
      "cell_type": "code",
      "execution_count": 11,
      "id": "EBxiD-JyB9ID",
      "metadata": {
        "colab": {
          "base_uri": "https://localhost:8080/",
          "height": 913
        },
        "id": "EBxiD-JyB9ID",
        "outputId": "4f33c98f-ef58-42bd-fd5a-ea07c1054b8b"
      },
      "outputs": [
        {
          "data": {
            "image/png": "[encoded data removed]",
            "text/plain": [
              "<Figure size 504x360 with 1 Axes>"
            ]
          },
          "metadata": {},
          "output_type": "display_data"
        },
        {
          "data": {
            "image/png": "[encoded data removed]",
            "text/plain": [
              "<Figure size 504x360 with 1 Axes>"
            ]
          },
          "metadata": {},
          "output_type": "display_data"
        }
      ],
      "source": [
        "sns.set_style(\"whitegrid\")\n",
        "plt.figure(figsize = (7,5))          \n",
        "sns.set_palette(\"icefire_r\")\n",
        "sns.histplot(data=df,x='time_spent_on_the_page',kde=True)\n",
        "plt.show()\n",
        "plt.figure(figsize = (7,5)) \n",
        "sns.boxplot(data=df,x='time_spent_on_the_page')\n",
        "plt.show()"
      ]
    },
    {
      "attachments": {},
      "cell_type": "markdown",
      "id": "wOU78b1jyZNY",
      "metadata": {
        "id": "wOU78b1jyZNY"
      },
      "source": [
        "### Observations\n",
        "\n",
        "- According to the graphs, time spent on the page apparently follows a normal distribution.\n",
        "- 75% of the users spent between 2 and 8 min on the page.\n",
        "- Maximum time spent on the page is a little bit more than 10 min."
      ]
    },
    {
      "cell_type": "code",
      "execution_count": 12,
      "id": "pOSGlfPg6Zvj",
      "metadata": {
        "colab": {
          "base_uri": "https://localhost:8080/"
        },
        "id": "pOSGlfPg6Zvj",
        "outputId": "9921f1fb-d4b7-4b04-ee91-17f19cafa0b2"
      },
      "outputs": [
        {
          "data": {
            "text/plain": [
              "Spanish    34\n",
              "French     34\n",
              "English    32\n",
              "Name: language_preferred, dtype: int64"
            ]
          },
          "execution_count": 12,
          "metadata": {},
          "output_type": "execute_result"
        }
      ],
      "source": [
        "df['language_preferred'].value_counts()"
      ]
    },
    {
      "cell_type": "code",
      "execution_count": 13,
      "id": "Q8wgNsqOl4W2",
      "metadata": {
        "colab": {
          "base_uri": "https://localhost:8080/",
          "height": 449
        },
        "id": "Q8wgNsqOl4W2",
        "outputId": "6a48ca37-c4b9-405f-9f37-928a969058a3"
      },
      "outputs": [
        {
          "data": {
            "image/png": "[encoded data removed]",
            "text/plain": [
              "<Figure size 432x288 with 1 Axes>"
            ]
          },
          "metadata": {},
          "output_type": "display_data"
        }
      ],
      "source": [
        "sns.color_palette(\"icefire_r\")\n",
        "sns.countplot(data=df, x='language_preferred')\n",
        "plt.xlabel('Lenguage Preferred')\n",
        "plt.ylabel('Count');"
      ]
    },
    {
      "attachments": {},
      "cell_type": "markdown",
      "id": "eW_vba2Qo4lg",
      "metadata": {
        "id": "eW_vba2Qo4lg"
      },
      "source": [
        "#### Observations:\n",
        "- The two most preferred languages are French and Spanish. \n",
        "- The graph shows there is a small difference between the user's language preference (English, Spanish and French)."
      ]
    },
    {
      "cell_type": "code",
      "execution_count": 14,
      "id": "zZB5Wd5k85eA",
      "metadata": {
        "colab": {
          "base_uri": "https://localhost:8080/"
        },
        "id": "zZB5Wd5k85eA",
        "outputId": "e726321f-71c1-45fa-9223-525bdc6e4b77"
      },
      "outputs": [
        {
          "data": {
            "text/plain": [
              "old    50\n",
              "new    50\n",
              "Name: landing_page, dtype: int64"
            ]
          },
          "execution_count": 14,
          "metadata": {},
          "output_type": "execute_result"
        }
      ],
      "source": [
        "df['landing_page'].value_counts()"
      ]
    },
    {
      "cell_type": "code",
      "execution_count": 15,
      "id": "YQMGt-popxge",
      "metadata": {
        "colab": {
          "base_uri": "https://localhost:8080/",
          "height": 449
        },
        "id": "YQMGt-popxge",
        "outputId": "43921257-93ec-4196-e3e2-9b2784b96af8"
      },
      "outputs": [
        {
          "data": {
            "image/png": "[encoded data removed]",
            "text/plain": [
              "<Figure size 432x288 with 1 Axes>"
            ]
          },
          "metadata": {},
          "output_type": "display_data"
        }
      ],
      "source": [
        "sns.color_palette(\"icefire_r\")\n",
        "sns.countplot(data=df, x='landing_page')\n",
        "plt.xlabel('landing Page')\n",
        "plt.ylabel('Count');"
      ]
    },
    {
      "attachments": {},
      "cell_type": "markdown",
      "id": "lSKlJlv0qGo0",
      "metadata": {
        "id": "lSKlJlv0qGo0"
      },
      "source": [
        "### Obsevations:\n",
        "- There is an equal quantity of users on the old and the new landing page. "
      ]
    },
    {
      "cell_type": "code",
      "execution_count": 16,
      "id": "1v0ZUHgDgGle",
      "metadata": {
        "colab": {
          "base_uri": "https://localhost:8080/",
          "height": 449
        },
        "id": "1v0ZUHgDgGle",
        "outputId": "35982e57-1f5f-4c40-d167-582c91ffb4f1"
      },
      "outputs": [
        {
          "data": {
            "image/png": "[encoded data removed]",
            "text/plain": [
              "<Figure size 432x288 with 1 Axes>"
            ]
          },
          "metadata": {},
          "output_type": "display_data"
        }
      ],
      "source": [
        "sns.color_palette(\"icefire_r\")\n",
        "df['converted'].value_counts()\n",
        "sns.histplot(data=df, x='converted');"
      ]
    },
    {
      "cell_type": "code",
      "execution_count": 17,
      "id": "cExff3W_9d5B",
      "metadata": {
        "colab": {
          "base_uri": "https://localhost:8080/"
        },
        "id": "cExff3W_9d5B",
        "outputId": "f767d718-5da8-4ef4-9f46-b5620723a201"
      },
      "outputs": [
        {
          "data": {
            "text/plain": [
              "yes    54\n",
              "no     46\n",
              "Name: converted, dtype: int64"
            ]
          },
          "execution_count": 17,
          "metadata": {},
          "output_type": "execute_result"
        }
      ],
      "source": [
        "df['converted'].value_counts()"
      ]
    },
    {
      "attachments": {},
      "cell_type": "markdown",
      "id": "a9HlsL_iyEml",
      "metadata": {
        "id": "a9HlsL_iyEml"
      },
      "source": [
        "### Obsevations:\n",
        "- Overall 54 users  of 100 were converted into subscribers."
      ]
    },
    {
      "attachments": {},
      "cell_type": "markdown",
      "id": "fad2de2f",
      "metadata": {
        "id": "fad2de2f"
      },
      "source": [
        "### Bivariate Analysis"
      ]
    },
    {
      "attachments": {},
      "cell_type": "markdown",
      "id": "HcAdHYcU-oaV",
      "metadata": {
        "id": "HcAdHYcU-oaV"
      },
      "source": [
        "#### Converted vs Time spent on the page"
      ]
    },
    {
      "cell_type": "code",
      "execution_count": 18,
      "id": "eqdE6uxuCkwA",
      "metadata": {
        "colab": {
          "base_uri": "https://localhost:8080/",
          "height": 449
        },
        "id": "eqdE6uxuCkwA",
        "outputId": "772fe10c-2b7a-471a-9cd9-85dc051c871d"
      },
      "outputs": [
        {
          "data": {
            "image/png": "[encoded data removed]",
            "text/plain": [
              "<Figure size 432x288 with 1 Axes>"
            ]
          },
          "metadata": {},
          "output_type": "display_data"
        }
      ],
      "source": [
        "sns.color_palette(\"icefire_r\")\n",
        "sns.barplot(data=df, x='converted',y='time_spent_on_the_page');\n",
        "plt.show()\n"
      ]
    },
    {
      "cell_type": "code",
      "execution_count": 19,
      "id": "58e9a1d0",
      "metadata": {
        "colab": {
          "base_uri": "https://localhost:8080/",
          "height": 472
        },
        "id": "58e9a1d0",
        "outputId": "7361c344-ba6c-4327-a3b5-ac4a83f2438a"
      },
      "outputs": [
        {
          "data": {
            "image/png": "[encoded data removed]",
            "text/plain": [
              "<Figure size 432x288 with 1 Axes>"
            ]
          },
          "metadata": {},
          "output_type": "display_data"
        }
      ],
      "source": [
        "sns.color_palette(\"icefire_r\")\n",
        "sns.boxplot(data=df, x='converted',y='time_spent_on_the_page')\n",
        "plt.title('Converted vs Time spent on the page')\n",
        "plt.show()"
      ]
    },
    {
      "attachments": {},
      "cell_type": "markdown",
      "id": "E2pslIYTybLH",
      "metadata": {
        "id": "E2pslIYTybLH"
      },
      "source": [
        "### Obsevations:\n",
        "- The range of time spent on the page for people converted lies between 3 and 10 min.\n",
        "- While 75% of the not converted users spent less than 5 min on the page. \n",
        "- This leads us to infer the more time people spend on the page the more likely they are to subscribe."
      ]
    },
    {
      "attachments": {},
      "cell_type": "markdown",
      "id": "4o1FGCz2SbMa",
      "metadata": {
        "id": "4o1FGCz2SbMa"
      },
      "source": [
        "#### Group Vs Time Spent"
      ]
    },
    {
      "cell_type": "code",
      "execution_count": 20,
      "id": "U2z1_yrgCz33",
      "metadata": {
        "colab": {
          "base_uri": "https://localhost:8080/",
          "height": 449
        },
        "id": "U2z1_yrgCz33",
        "outputId": "02111094-6f78-481e-8321-6f9be06f747e"
      },
      "outputs": [
        {
          "data": {
            "image/png": "[encoded data removed]",
            "text/plain": [
              "<Figure size 432x288 with 1 Axes>"
            ]
          },
          "metadata": {},
          "output_type": "display_data"
        }
      ],
      "source": [
        "sns.color_palette(\"icefire_r\")\n",
        "sns.boxplot(data=df, x='group',y='time_spent_on_the_page');"
      ]
    },
    {
      "attachments": {},
      "cell_type": "markdown",
      "id": "eAS_qVEiSgth",
      "metadata": {
        "id": "eAS_qVEiSgth"
      },
      "source": [
        "#### Landing Page Vs Time Spent"
      ]
    },
    {
      "cell_type": "code",
      "execution_count": 21,
      "id": "anSqHGl9CsYZ",
      "metadata": {
        "colab": {
          "base_uri": "https://localhost:8080/",
          "height": 450
        },
        "id": "anSqHGl9CsYZ",
        "outputId": "ae7baab5-7a5e-4da0-828e-6c02932fd763"
      },
      "outputs": [
        {
          "data": {
            "image/png": "[encoded data removed]",
            "text/plain": [
              "<Figure size 432x288 with 1 Axes>"
            ]
          },
          "metadata": {},
          "output_type": "display_data"
        }
      ],
      "source": [
        "sns.color_palette(\"icefire_r\")\n",
        "sns.boxplot(data=df, x='landing_page',y='time_spent_on_the_page');"
      ]
    },
    {
      "attachments": {},
      "cell_type": "markdown",
      "id": "Ya5_B9UrFAnI",
      "metadata": {
        "id": "Ya5_B9UrFAnI"
      },
      "source": [
        "### Observations:\n",
        "\n",
        "- Users on the new landing page(Group Treatment) spent more time than users on the old landing page(Group Control).\n",
        "- Users on the old landing page have a lower and dispersed range of time spent. With a min of 20 seconds and 75% of the users spent less than 7.5 min and max of 10.3 min.\n",
        " - while user's time on the new landing page is higher and less dispersed, users on the new landing page spent a nearly a minimum of 3 minutes and max of 10.7 minutes.\n"
      ]
    },
    {
      "attachments": {},
      "cell_type": "markdown",
      "id": "zu1kRD_lS6Ku",
      "metadata": {
        "id": "zu1kRD_lS6Ku"
      },
      "source": [
        "#### Time spent vs Landing page vs Converted"
      ]
    },
    {
      "cell_type": "code",
      "execution_count": 22,
      "id": "Z_MSsYCjCu_3",
      "metadata": {
        "colab": {
          "base_uri": "https://localhost:8080/",
          "height": 450
        },
        "id": "Z_MSsYCjCu_3",
        "outputId": "1d6aacaf-7d32-4a57-e21d-52ce5b399977"
      },
      "outputs": [
        {
          "data": {
            "image/png": "[encoded data removed]",
            "text/plain": [
              "<Figure size 432x288 with 1 Axes>"
            ]
          },
          "metadata": {},
          "output_type": "display_data"
        }
      ],
      "source": [
        "sns.color_palette(\"icefire_r\")\n",
        "sns.boxplot(data=df, x='landing_page',y='time_spent_on_the_page',hue='converted');"
      ]
    },
    {
      "attachments": {},
      "cell_type": "markdown",
      "id": "aZxIRJM0OENG",
      "metadata": {
        "id": "aZxIRJM0OENG"
      },
      "source": [
        "### Observations:\n",
        "- We can see that users that became subscribers spent more time on the websites in both of the landing pages(new and old).\n",
        "- Also users on the new website spent more time than users on the old one."
      ]
    },
    {
      "cell_type": "code",
      "execution_count": 23,
      "id": "pX_xYywLC2rI",
      "metadata": {
        "colab": {
          "base_uri": "https://localhost:8080/",
          "height": 450
        },
        "id": "pX_xYywLC2rI",
        "outputId": "a309abdb-42e1-4b8c-902f-f0c2f5c14959"
      },
      "outputs": [
        {
          "data": {
            "image/png": "[encoded data removed]",
            "text/plain": [
              "<Figure size 432x288 with 1 Axes>"
            ]
          },
          "metadata": {},
          "output_type": "display_data"
        }
      ],
      "source": [
        "sns.color_palette(\"icefire_r\")\n",
        "sns.boxplot(data=df, x='language_preferred',y='time_spent_on_the_page');"
      ]
    },
    {
      "cell_type": "code",
      "execution_count": 24,
      "id": "nLKcceQGC5HO",
      "metadata": {
        "colab": {
          "base_uri": "https://localhost:8080/",
          "height": 450
        },
        "id": "nLKcceQGC5HO",
        "outputId": "5ff3b5da-f80b-4bd5-da76-795250ebda05"
      },
      "outputs": [
        {
          "data": {
            "image/png": "[encoded data removed]",
            "text/plain": [
              "<Figure size 432x288 with 1 Axes>"
            ]
          },
          "metadata": {},
          "output_type": "display_data"
        }
      ],
      "source": [
        "sns.color_palette(\"icefire_r\")\n",
        "sns.barplot(data=df, x='language_preferred',y='time_spent_on_the_page');"
      ]
    },
    {
      "attachments": {},
      "cell_type": "markdown",
      "id": "tuSmnKvLTUX0",
      "metadata": {
        "id": "tuSmnKvLTUX0"
      },
      "source": [
        "### Observations:\n",
        "\n",
        "- Average time for Spanish, English and French are pretty close to each other, no more than a min of difference.\n",
        "- English appears to have the highest mean time followed by Spanish and then French has the lowest mean time. "
      ]
    },
    {
      "cell_type": "code",
      "execution_count": 25,
      "id": "pJHqqngRThMX",
      "metadata": {
        "colab": {
          "base_uri": "https://localhost:8080/",
          "height": 347
        },
        "id": "pJHqqngRThMX",
        "outputId": "a1065853-fb02-4e19-d880-0117de60b2c4"
      },
      "outputs": [
        {
          "data": {
            "text/plain": [
              "<Figure size 360x216 with 0 Axes>"
            ]
          },
          "metadata": {},
          "output_type": "display_data"
        },
        {
          "data": {
            "image/png": "[encoded data removed]",
            "text/plain": [
              "<Figure size 1148.5x360 with 3 Axes>"
            ]
          },
          "metadata": {},
          "output_type": "display_data"
        }
      ],
      "source": [
        "plt.figure(figsize = (5,3));\n",
        "sns.catplot(hue = 'landing_page', data = df, kind = 'count', col = 'language_preferred', x = 'converted');\n",
        "plt.show();\n"
      ]
    },
    {
      "attachments": {},
      "cell_type": "markdown",
      "id": "1uoxOJvfT_H8",
      "metadata": {
        "id": "1uoxOJvfT_H8"
      },
      "source": [
        "### Observations:\n",
        "- Overall, French has the higher number of rejections with 14 users, but also the highest conversion on the new landing page, 12 users became subscriptors.\n",
        "-Users that prefer English have almost the same quantity of conversions in old(11 users) and new landing(10 users).\n",
        "-Users that prefer Spanish have a large number of conversions on the new landing page, while the users on the old landing page tend to be higher in rejections.\n"
      ]
    },
    {
      "attachments": {},
      "cell_type": "markdown",
      "id": "27906576",
      "metadata": {
        "id": "27906576"
      },
      "source": [
        "## 1. Do the users spend more time on the new landing page than the existing landing page?"
      ]
    },
    {
      "attachments": {},
      "cell_type": "markdown",
      "id": "e5fdf0c8",
      "metadata": {
        "id": "e5fdf0c8"
      },
      "source": [
        "### Perform Visual Analysis"
      ]
    },
    {
      "cell_type": "code",
      "execution_count": 26,
      "id": "6eZJa41eg21n",
      "metadata": {
        "colab": {
          "base_uri": "https://localhost:8080/",
          "height": 886
        },
        "id": "6eZJa41eg21n",
        "outputId": "4c59f3d3-d30b-4faf-fcbc-3e31fa4affdb"
      },
      "outputs": [
        {
          "data": {
            "image/png": "[encoded data removed]",
            "text/plain": [
              "<Figure size 432x288 with 1 Axes>"
            ]
          },
          "metadata": {},
          "output_type": "display_data"
        },
        {
          "data": {
            "image/png": "[encoded data removed]",
            "text/plain": [
              "<Figure size 432x288 with 1 Axes>"
            ]
          },
          "metadata": {},
          "output_type": "display_data"
        }
      ],
      "source": [
        "sns.color_palette(\"icefire_r\")\n",
        "sns.boxplot(data=df, x='landing_page',y='time_spent_on_the_page');\n",
        "plt.show()\n",
        "sns.barplot(data=df, x='landing_page',y='time_spent_on_the_page');\n",
        "plt.show()"
      ]
    },
    {
      "attachments": {},
      "cell_type": "markdown",
      "id": "56b3dafd",
      "metadata": {
        "id": "56b3dafd"
      },
      "source": [
        "### Step 1: Define the null and alternate hypotheses\n",
        "\n",
        "\n",
        "*   𝜇1= Time spent on the new landing page\n",
        "*   𝜇2= Time spent on the old landing page\n",
        "\n",
        "\n",
        "\n",
        "Null hypothesis\n",
        "\n",
        "𝐻0:𝜇1<=𝜇2\n",
        "\n",
        "Alternative hypothesis\n",
        "\n",
        "𝐻a:𝜇1>𝜇2"
      ]
    },
    {
      "attachments": {},
      "cell_type": "markdown",
      "id": "c7ee4907",
      "metadata": {
        "id": "c7ee4907"
      },
      "source": [
        "### Step 2: Select Appropriate test\n",
        "Two Independent Sample T-test "
      ]
    },
    {
      "attachments": {},
      "cell_type": "markdown",
      "id": "3f58c9a7",
      "metadata": {
        "id": "3f58c9a7"
      },
      "source": [
        "### Step 3: Decide the significance level\n",
        "α=0.05 "
      ]
    },
    {
      "attachments": {},
      "cell_type": "markdown",
      "id": "5fed2eac",
      "metadata": {
        "id": "5fed2eac"
      },
      "source": [
        "### Step 4: Collect and prepare data"
      ]
    },
    {
      "cell_type": "code",
      "execution_count": 27,
      "id": "QsYMGg2GdsT7",
      "metadata": {
        "id": "QsYMGg2GdsT7"
      },
      "outputs": [],
      "source": [
        "new_landing= df[df['landing_page'] == 'new'].reset_index()\n",
        "old_landing=df[df['landing_page'] == 'old'].reset_index()"
      ]
    },
    {
      "cell_type": "code",
      "execution_count": 28,
      "id": "QUnWDZ70do_s",
      "metadata": {
        "colab": {
          "base_uri": "https://localhost:8080/"
        },
        "id": "QUnWDZ70do_s",
        "outputId": "2c51ade3-cdce-4642-92e4-27ab36423d4f"
      },
      "outputs": [
        {
          "name": "stdout",
          "output_type": "stream",
          "text": [
            "The mean spent time on the new landing page is 6.2232\n",
            "The mean spent time on the old landing page is 4.532400000000001\n",
            "The standard deviation of the new landing page is 1.82\n",
            "The standard deviation of the old landing page is 2.58\n"
          ]
        }
      ],
      "source": [
        "# find the sample means and sample standard deviations for the two samples\n",
        "print('The mean spent time on the new landing page is ' + str(new_landing['time_spent_on_the_page'].mean()))\n",
        "print('The mean spent time on the old landing page is ' + str(old_landing['time_spent_on_the_page'].mean()))\n",
        "print('The standard deviation of the new landing page is ' + str(round(new_landing['time_spent_on_the_page'].std(), 2)))\n",
        "print('The standard deviation of the old landing page is ' + str(round(old_landing['time_spent_on_the_page'].std(), 2)))"
      ]
    },
    {
      "attachments": {},
      "cell_type": "markdown",
      "id": "2c183cd7",
      "metadata": {
        "id": "2c183cd7"
      },
      "source": [
        "### Two Independent Sample T-test assumptions are satisfied or not\n",
        "- Continuous data = Yes, time is mesured on a continuous scale.\n",
        "\n",
        "- Normally distributed populations = Yes\n",
        "\n",
        "- Independent populations = We are informed that the two samples are independent from each other.\n",
        "\n",
        "- Unequal population standard deviations = yes.\n",
        "\n",
        "- Random sampling from the population = Yes, we are informed that the collected sample is a simple random sample.\n",
        "\n",
        "- We can use the Two Independent Sample T-test"
      ]
    },
    {
      "attachments": {},
      "cell_type": "markdown",
      "id": "f5c5258d",
      "metadata": {
        "id": "f5c5258d"
      },
      "source": [
        "### Step 5: Calculate the p-value"
      ]
    },
    {
      "cell_type": "code",
      "execution_count": 29,
      "id": "fac8594a",
      "metadata": {
        "colab": {
          "base_uri": "https://localhost:8080/"
        },
        "id": "fac8594a",
        "outputId": "f9ddefd1-ef51-4195-8fbe-b68f19ce07cf"
      },
      "outputs": [
        {
          "name": "stdout",
          "output_type": "stream",
          "text": [
            "The p-value is  0.0001392381225166549\n"
          ]
        }
      ],
      "source": [
        "from scipy.stats import ttest_ind\n",
        "test_stat, p_value = ttest_ind(new_landing['time_spent_on_the_page'], old_landing['time_spent_on_the_page'], \n",
        "                               equal_var = False, alternative = 'greater')\n",
        "print('The p-value is ', p_value)"
      ]
    },
    {
      "attachments": {},
      "cell_type": "markdown",
      "id": "359b12f8",
      "metadata": {
        "id": "359b12f8"
      },
      "source": [
        "### Step 6: Compare the p-value with $\\alpha$"
      ]
    },
    {
      "cell_type": "code",
      "execution_count": 30,
      "id": "7be47289",
      "metadata": {
        "colab": {
          "base_uri": "https://localhost:8080/"
        },
        "id": "7be47289",
        "outputId": "265f57f5-121c-4255-9de6-d1c554f754b9"
      },
      "outputs": [
        {
          "name": "stdout",
          "output_type": "stream",
          "text": [
            "As the p-value 0.0001392381225166549 is less than the level of significance, we reject the null hypothesis.\n"
          ]
        }
      ],
      "source": [
        "if p_value < 0.05:\n",
        "    print(f'As the p-value {p_value} is less than the level of significance, we reject the null hypothesis.')\n",
        "else:\n",
        "    print(f'As the p-value {p_value} is greater than the level of significance, we fail to reject the null hypothesis.')"
      ]
    },
    {
      "attachments": {},
      "cell_type": "markdown",
      "id": "d9affc84",
      "metadata": {
        "id": "d9affc84"
      },
      "source": [
        "### Step 7:  Draw inference\n",
        "\n",
        "- Based on the sample and our p-value(0.000139), which is much less than the level of significance we can reject the null hypothesis.\n",
        "- Hence, we have enough evidence to support the claim that the mean time spent on the new landing page is more than the mean time spent on the old landing page."
      ]
    },
    {
      "attachments": {},
      "cell_type": "markdown",
      "id": "353e9d24",
      "metadata": {
        "id": "353e9d24"
      },
      "source": [
        "## 2. Is the conversion rate (the proportion of users who visit the landing page and get converted) for the new page greater than the conversion rate for the old page?"
      ]
    },
    {
      "attachments": {},
      "cell_type": "markdown",
      "id": "wYpLlJCxv2bI",
      "metadata": {
        "id": "wYpLlJCxv2bI"
      },
      "source": [
        "### Perform Visual Analysis"
      ]
    },
    {
      "cell_type": "code",
      "execution_count": 31,
      "id": "Bq62H7oWOgyH",
      "metadata": {
        "colab": {
          "base_uri": "https://localhost:8080/",
          "height": 450
        },
        "id": "Bq62H7oWOgyH",
        "outputId": "243e3da2-19b9-4e9f-dc66-7048329b880a"
      },
      "outputs": [
        {
          "data": {
            "image/png": "[encoded data removed]",
            "text/plain": [
              "<Figure size 432x288 with 1 Axes>"
            ]
          },
          "metadata": {},
          "output_type": "display_data"
        }
      ],
      "source": [
        "\n",
        "sns.countplot(data=df, x='landing_page',hue='converted');\n",
        "plt.show()\n"
      ]
    },
    {
      "attachments": {},
      "cell_type": "markdown",
      "id": "JYM_W9f0MPLQ",
      "metadata": {
        "id": "JYM_W9f0MPLQ"
      },
      "source": [
        "### Step 1: Define the null and alternate hypotheses\n",
        "\n",
        "\n",
        "p1= Proportion of users that visit the new landing, \n",
        "\n",
        "p2= Proportion of users that visit the old landing \n",
        "\n",
        "Null hypothesis\n",
        "*   H0: p1 = p2\n",
        "\n",
        "Alternative hypothesis\n",
        "*   Ha: p1 > p2"
      ]
    },
    {
      "attachments": {},
      "cell_type": "markdown",
      "id": "JdXNAnZexEhD",
      "metadata": {
        "id": "JdXNAnZexEhD"
      },
      "source": [
        "### Step 2: Select Appropriate test\n",
        "2-propotion Z-test since we are comparing the sample proportions from two populations."
      ]
    },
    {
      "attachments": {},
      "cell_type": "markdown",
      "id": "1pw0gKXu0GIC",
      "metadata": {
        "id": "1pw0gKXu0GIC"
      },
      "source": [
        "### Step 3: Decide the significance level\n",
        "α=0.05 "
      ]
    },
    {
      "attachments": {},
      "cell_type": "markdown",
      "id": "z40lR7fu09IY",
      "metadata": {
        "id": "z40lR7fu09IY"
      },
      "source": [
        "### Step 4: Colect and prepare the data"
      ]
    },
    {
      "cell_type": "code",
      "execution_count": 32,
      "id": "oVdvIe1s1Fqd",
      "metadata": {
        "colab": {
          "base_uri": "https://localhost:8080/"
        },
        "id": "oVdvIe1s1Fqd",
        "outputId": "b0d0cec0-0b92-4c33-dcfa-62a75eb2cb2e"
      },
      "outputs": [
        {
          "name": "stdout",
          "output_type": "stream",
          "text": [
            "P1: 33\n",
            "P2: 21\n",
            "Proportion converted for new landing page: 0.66\n",
            "Proportion converted for the old landing page: 0.42\n"
          ]
        }
      ],
      "source": [
        "convertion_new=df[(df['landing_page'] == 'new')&(df['converted']=='yes')].reset_index()\n",
        "convertion_old=df[(df['landing_page'] == 'old')&(df['converted']=='yes')].reset_index()\n",
        "print('P1:',convertion_new.shape[0])\n",
        "print('P2:',convertion_old.shape[0])\n",
        "print('Proportion converted for new landing page:', convertion_new.shape[0]/new_landing.shape[0])\n",
        "print('Proportion converted for the old landing page:',convertion_old.shape[0]/old_landing.shape[0])"
      ]
    },
    {
      "attachments": {},
      "cell_type": "markdown",
      "id": "sPIOeJdkwr-_",
      "metadata": {
        "id": "sPIOeJdkwr-_"
      },
      "source": [
        "### Two propotion Z-test assumptions are satisfied or not- Binomially distributed populations\n",
        "- Binomially distributed populations: yes, its either converted or not.\n",
        "- Independent populations; yes\n",
        "- Random sampling from the populations: yes\n",
        "- When both mean (np) and\n",
        "n(1-p) are greater than or equal to 10, the binomial distribution can be approximated by a normal distribution: yes\n",
        "\n",
        ">$np_1 = 50\\cdot \\frac{33}{50} =33 \\geq 10\\\\  \n",
        "n(1-p_1) = 50 \\cdot \\frac{50-33}{50} =17 \\geq 10 \\\\    \n",
        "np_2 = 50\\cdot \\frac{21}{50} =21 \\geq 10\\\\ \n",
        "n(1-p_2) = 50 \\cdot \\frac{50-21}{50} =29 \\geq 10 $ "
      ]
    },
    {
      "attachments": {},
      "cell_type": "markdown",
      "id": "7WPQWyjTAZDt",
      "metadata": {
        "id": "7WPQWyjTAZDt"
      },
      "source": [
        "### Step 5: Calculate the p-value"
      ]
    },
    {
      "cell_type": "code",
      "execution_count": 33,
      "id": "EpNek-k1_dgQ",
      "metadata": {
        "colab": {
          "base_uri": "https://localhost:8080/"
        },
        "id": "EpNek-k1_dgQ",
        "outputId": "ce7f201f-43bf-410e-e481-1fa63cbacfb0"
      },
      "outputs": [
        {
          "name": "stdout",
          "output_type": "stream",
          "text": [
            "p-value :  0.008026308204056278\n"
          ]
        }
      ],
      "source": [
        "from statsmodels.stats.proportion import proportions_ztest\n",
        "conv_count = np.array([33,21]) # converted users in new and old landing pages\n",
        "nobs = np.array([50,50])       #  number of observations in new and old landing pages\n",
        "\n",
        "# this test returns 2 values, test statistic and p-value\n",
        "test_stat, p_value = proportions_ztest(conv_count, nobs, alternative = 'larger') # Ha as larger\n",
        "print('p-value : ', p_value)\n"
      ]
    },
    {
      "attachments": {},
      "cell_type": "markdown",
      "id": "UJhoPyNLAmZk",
      "metadata": {
        "id": "UJhoPyNLAmZk"
      },
      "source": [
        "### Step 6: Compare the p-value with $\\alpha$"
      ]
    },
    {
      "cell_type": "code",
      "execution_count": 34,
      "id": "kPPQSwgcAfVx",
      "metadata": {
        "colab": {
          "base_uri": "https://localhost:8080/"
        },
        "id": "kPPQSwgcAfVx",
        "outputId": "6d29fff6-9f8c-48f4-9c59-e031e5cab282"
      },
      "outputs": [
        {
          "name": "stdout",
          "output_type": "stream",
          "text": [
            "As the p-value 0.008026308204056278 is less than the level of significance, we reject the null hypothesis.\n"
          ]
        }
      ],
      "source": [
        "if p_value < 0.05:\n",
        "    print(f'As the p-value {p_value} is less than the level of significance, we reject the null hypothesis.')\n",
        "else:\n",
        "    print(f'As the p-value {p_value} is greater than the level of significance, we fail to reject the null hypothesis.')"
      ]
    },
    {
      "attachments": {},
      "cell_type": "markdown",
      "id": "c53f6uTqGYb9",
      "metadata": {
        "id": "c53f6uTqGYb9"
      },
      "source": [
        "### Step 7:  Draw inference\n",
        "- As the p-value is less(0.008026) than the significance level (0.05), we can reject the null hypothesis.\n",
        "- Thus, we have enough evidence to conclude that the proportion of conversion rate for the new page is greater than the proportion of conversion rate for the old page."
      ]
    },
    {
      "attachments": {},
      "cell_type": "markdown",
      "id": "d49bfa2d",
      "metadata": {
        "id": "d49bfa2d"
      },
      "source": [
        "## 3. Is the conversion and preferred language are independent or related?"
      ]
    },
    {
      "attachments": {},
      "cell_type": "markdown",
      "id": "VuRYRtAZHx3b",
      "metadata": {
        "id": "VuRYRtAZHx3b"
      },
      "source": [
        "### Perform Visual Analysis"
      ]
    },
    {
      "cell_type": "code",
      "execution_count": 35,
      "id": "Mt5syZ_BIJQh",
      "metadata": {
        "colab": {
          "base_uri": "https://localhost:8080/",
          "height": 564
        },
        "id": "Mt5syZ_BIJQh",
        "outputId": "6d6a70f0-2f0a-4c97-ca55-867e47f33867"
      },
      "outputs": [
        {
          "data": {
            "image/png": "[encoded data removed]",
            "text/plain": [
              "<Figure size 576x432 with 1 Axes>"
            ]
          },
          "metadata": {},
          "output_type": "display_data"
        }
      ],
      "source": [
        "plt.figure(figsize=(8,6))\n",
        "sns.countplot(hue = 'language_preferred', data = data, x = 'converted')\n",
        "plt.title('Language preferred vs Converted')\n",
        "plt.legend(title = 'Language')\n",
        "plt.show()"
      ]
    },
    {
      "attachments": {},
      "cell_type": "markdown",
      "id": "vE4GbAHlOD3N",
      "metadata": {
        "id": "vE4GbAHlOD3N"
      },
      "source": [
        "### Step 1: Define the null and alternate hypotheses\n",
        "\n",
        "Ho : Converted status is independent of language preferred\n",
        "\n",
        "Ha : Converted status depends on language preferred"
      ]
    },
    {
      "attachments": {},
      "cell_type": "markdown",
      "id": "XjHm3-GxFzCN",
      "metadata": {
        "id": "XjHm3-GxFzCN"
      },
      "source": [
        "### Step 2: Select Appropriate test\n",
        "Chi-Square Test of Independence"
      ]
    },
    {
      "attachments": {},
      "cell_type": "markdown",
      "id": "cabpqvSGF5o3",
      "metadata": {
        "id": "cabpqvSGF5o3"
      },
      "source": [
        "### Step 3: Decide the significance level\n",
        "α=0.05 "
      ]
    },
    {
      "attachments": {},
      "cell_type": "markdown",
      "id": "ThS8R3qvGCKt",
      "metadata": {
        "id": "ThS8R3qvGCKt"
      },
      "source": [
        "### Step 4: Colect and prepare the data"
      ]
    },
    {
      "cell_type": "code",
      "execution_count": 36,
      "id": "BZREvve3G-Fl",
      "metadata": {
        "colab": {
          "base_uri": "https://localhost:8080/",
          "height": 143
        },
        "id": "BZREvve3G-Fl",
        "outputId": "b1baa21c-9bfd-43d7-c1ab-3f121c21653a"
      },
      "outputs": [
        {
          "data": {
            "text/html": [
              "<div>\n",
              "<style scoped>\n",
              "    .dataframe tbody tr th:only-of-type {\n",
              "        vertical-align: middle;\n",
              "    }\n",
              "\n",
              "    .dataframe tbody tr th {\n",
              "        vertical-align: top;\n",
              "    }\n",
              "\n",
              "    .dataframe thead th {\n",
              "        text-align: right;\n",
              "    }\n",
              "</style>\n",
              "<table border=\"1\" class=\"dataframe\">\n",
              "  <thead>\n",
              "    <tr style=\"text-align: right;\">\n",
              "      <th>language_preferred</th>\n",
              "      <th>English</th>\n",
              "      <th>French</th>\n",
              "      <th>Spanish</th>\n",
              "    </tr>\n",
              "    <tr>\n",
              "      <th>converted</th>\n",
              "      <th></th>\n",
              "      <th></th>\n",
              "      <th></th>\n",
              "    </tr>\n",
              "  </thead>\n",
              "  <tbody>\n",
              "    <tr>\n",
              "      <th>no</th>\n",
              "      <td>11</td>\n",
              "      <td>19</td>\n",
              "      <td>16</td>\n",
              "    </tr>\n",
              "    <tr>\n",
              "      <th>yes</th>\n",
              "      <td>21</td>\n",
              "      <td>15</td>\n",
              "      <td>18</td>\n",
              "    </tr>\n",
              "  </tbody>\n",
              "</table>\n",
              "</div>"
            ],
            "text/plain": [
              "language_preferred  English  French  Spanish\n",
              "converted                                   \n",
              "no                       11      19       16\n",
              "yes                      21      15       18"
            ]
          },
          "execution_count": 36,
          "metadata": {},
          "output_type": "execute_result"
        }
      ],
      "source": [
        "lang_conv = pd.crosstab(df['converted'], df['language_preferred'])\n",
        "lang_conv"
      ]
    },
    {
      "attachments": {},
      "cell_type": "markdown",
      "id": "ZCB_qVblHVtT",
      "metadata": {
        "id": "ZCB_qVblHVtT"
      },
      "source": [
        "### Satisfied Chi-Square Test of Independence Assumptions:\n",
        "- Categorical variables: Yes\n",
        "\n",
        "- Expected value of the number of sample observations in each level of the variable is at least 5: Yes\n",
        "\n",
        "- Random sampling from the population: Yes"
      ]
    },
    {
      "attachments": {},
      "cell_type": "markdown",
      "id": "qIGhmoyeGHb8",
      "metadata": {
        "id": "qIGhmoyeGHb8"
      },
      "source": [
        "### Step 5: Calculate the p-value"
      ]
    },
    {
      "cell_type": "code",
      "execution_count": 37,
      "id": "lSfTu6v_Jjc8",
      "metadata": {
        "colab": {
          "base_uri": "https://localhost:8080/"
        },
        "id": "lSfTu6v_Jjc8",
        "outputId": "a6b2f3b1-e960-4e96-8fee-58372d523aec"
      },
      "outputs": [
        {
          "name": "stdout",
          "output_type": "stream",
          "text": [
            "The p-value is 0.21298887487543447\n"
          ]
        }
      ],
      "source": [
        "from scipy.stats import chi2_contingency\n",
        "\n",
        "# find the p-value\n",
        "chi, p_value, dof, expected = chi2_contingency(lang_conv)\n",
        "print('The p-value is', p_value)"
      ]
    },
    {
      "attachments": {},
      "cell_type": "markdown",
      "id": "uqvOU3sDGQOs",
      "metadata": {
        "id": "uqvOU3sDGQOs"
      },
      "source": [
        "### Step 6: Compare the p-value with $\\alpha$"
      ]
    },
    {
      "cell_type": "code",
      "execution_count": 38,
      "id": "lHwfgW4vKMXy",
      "metadata": {
        "colab": {
          "base_uri": "https://localhost:8080/"
        },
        "id": "lHwfgW4vKMXy",
        "outputId": "d25caf18-d31c-4bab-eb5c-42771b516533"
      },
      "outputs": [
        {
          "name": "stdout",
          "output_type": "stream",
          "text": [
            "As the p-value 0.21298887487543447 is greater than the level of significance, we fail to reject the null hypothesis.\n"
          ]
        }
      ],
      "source": [
        "if p_value < 0.05:\n",
        "    print(f'As the p-value {p_value} is less than the level of significance, we reject the null hypothesis.')\n",
        "else:\n",
        "    print(f'As the p-value {p_value} is greater than the level of significance, we fail to reject the null hypothesis.')"
      ]
    },
    {
      "attachments": {},
      "cell_type": "markdown",
      "id": "aUv0vYBjGaXI",
      "metadata": {
        "id": "aUv0vYBjGaXI"
      },
      "source": [
        "### Step 7:  Draw inference\n",
        "\n",
        "- As the p-value (0.213) is greater than the level of significance (0.05), we fail to reject the null hypothesis.\n",
        "- Hence, we do not have enough statistical evidence to conclude that the conversion status depends on language preference."
      ]
    },
    {
      "attachments": {},
      "cell_type": "markdown",
      "id": "8d585a90",
      "metadata": {
        "id": "8d585a90"
      },
      "source": [
        "## 4. Is the time spent on the new page same for the different language users?"
      ]
    },
    {
      "attachments": {},
      "cell_type": "markdown",
      "id": "4Ij4Fky_H0KR",
      "metadata": {
        "id": "4Ij4Fky_H0KR"
      },
      "source": [
        "### Perform Visual Analysis"
      ]
    },
    {
      "cell_type": "code",
      "execution_count": 39,
      "id": "Qef9YSeEYSV6",
      "metadata": {
        "colab": {
          "base_uri": "https://localhost:8080/"
        },
        "id": "Qef9YSeEYSV6",
        "outputId": "aeb9eacb-8066-4250-eef8-24b0fd070531"
      },
      "outputs": [
        {
          "name": "stdout",
          "output_type": "stream",
          "text": [
            "                   time_spent_on_the_page\n",
            "                                     mean\n",
            "language_preferred                       \n",
            "English                          6.663750\n",
            "French                           6.196471\n",
            "Spanish                          5.835294\n",
            "                   time_spent_on_the_page\n",
            "                                     mean\n",
            "language_preferred                       \n",
            "English                          5.559062\n",
            "French                           5.253235\n",
            "Spanish                          5.331765\n"
          ]
        }
      ],
      "source": [
        "new=df[(df['landing_page']=='new')]\n",
        "new\n",
        "time=new.groupby('language_preferred').agg({'time_spent_on_the_page':['mean']})\n",
        "print(time)\n",
        "print(df.groupby('language_preferred').agg({'time_spent_on_the_page':['mean']}))"
      ]
    },
    {
      "cell_type": "code",
      "execution_count": 40,
      "id": "8LHxAVYYLxKV",
      "metadata": {
        "colab": {
          "base_uri": "https://localhost:8080/",
          "height": 487
        },
        "id": "8LHxAVYYLxKV",
        "outputId": "50797c5f-e106-4a19-f23b-a64a4546150a"
      },
      "outputs": [
        {
          "data": {
            "image/png": "[encoded data removed]",
            "text/plain": [
              "<Figure size 576x360 with 1 Axes>"
            ]
          },
          "metadata": {},
          "output_type": "display_data"
        }
      ],
      "source": [
        "plt.figure(figsize=(8,5))\n",
        "sns.boxplot(data=new_landing, x='language_preferred', y='time_spent_on_the_page')\n",
        "plt.title('Time spent vs Language preferred in new landing');"
      ]
    },
    {
      "attachments": {},
      "cell_type": "markdown",
      "id": "8_r5dU7jA5TI",
      "metadata": {
        "id": "8_r5dU7jA5TI"
      },
      "source": [
        "### Step 1: Define the null and alternate hypotheses\n",
        "\n",
        "- Null hypothesis\n",
        "\n",
        "Ho : All the mean time spent are equal for each language\n",
        "\n",
        "- Alternative hypothesis\n",
        "\n",
        "Ha : Atleast one of the mean time spent is different from the rest"
      ]
    },
    {
      "attachments": {},
      "cell_type": "markdown",
      "id": "b8vBtrtyFxD6",
      "metadata": {
        "id": "b8vBtrtyFxD6"
      },
      "source": [
        "### Step 2: Select Appropriate test\n",
        "One-way ANOVA test because we are trying to determine if the means of more than two independent populations are significantly different."
      ]
    },
    {
      "attachments": {},
      "cell_type": "markdown",
      "id": "DRa-zIZBF3jA",
      "metadata": {
        "id": "DRa-zIZBF3jA"
      },
      "source": [
        "### Step 3: Decide the significance level\n",
        "α=0.05 "
      ]
    },
    {
      "attachments": {},
      "cell_type": "markdown",
      "id": "0jXuHRYxGD1-",
      "metadata": {
        "id": "0jXuHRYxGD1-"
      },
      "source": [
        "### Step 4: Colect and prepare the data"
      ]
    },
    {
      "attachments": {},
      "cell_type": "markdown",
      "id": "_uylcuxNSdSB",
      "metadata": {
        "id": "_uylcuxNSdSB"
      },
      "source": [
        "### Shapiro-Wilk’s test\n",
        "- Null hypothesis\n",
        "\n",
        "𝐻0:  Time spent follows a normal distribution \n",
        "\n",
        "- Alternative hypothesis\n",
        "\n",
        "𝐻𝑎:  Time spent does not follow a normal distribution"
      ]
    },
    {
      "cell_type": "code",
      "execution_count": 41,
      "id": "lXt4mfDWTPh8",
      "metadata": {
        "colab": {
          "base_uri": "https://localhost:8080/"
        },
        "id": "lXt4mfDWTPh8",
        "outputId": "a47d26a1-b7e4-4bc5-8f1d-7b5ab9714590"
      },
      "outputs": [
        {
          "name": "stdout",
          "output_type": "stream",
          "text": [
            "The p-value is 0.8040016293525696\n"
          ]
        }
      ],
      "source": [
        "# Assumption 1: Normal Distribution\n",
        "from scipy import stats\n",
        "\n",
        "# find the p-value\n",
        "w, p_value = stats.shapiro(new_landing['time_spent_on_the_page']) \n",
        "print('The p-value is', p_value)"
      ]
    },
    {
      "cell_type": "code",
      "execution_count": 42,
      "id": "Yv4ovM6lUnw0",
      "metadata": {
        "colab": {
          "base_uri": "https://localhost:8080/"
        },
        "id": "Yv4ovM6lUnw0",
        "outputId": "cdd960b7-cb43-446d-c2d2-ca1b033cfe41"
      },
      "outputs": [
        {
          "name": "stdout",
          "output_type": "stream",
          "text": [
            "As the p-value 0.8040016293525696 is greater than the level of significance, we fail to reject the null hypothesis.\n"
          ]
        }
      ],
      "source": [
        "if p_value < 0.05:\n",
        "    print(f'As the p-value {p_value} is less than the level of significance, we reject the null hypothesis.')\n",
        "else:\n",
        "    print(f'As the p-value {p_value} is greater than the level of significance, we fail to reject the null hypothesis.')"
      ]
    },
    {
      "attachments": {},
      "cell_type": "markdown",
      "id": "g8Rf_GqEUzfW",
      "metadata": {
        "id": "g8Rf_GqEUzfW"
      },
      "source": [
        "### Levene's Test\n",
        "- Testing the null hypothesis\n",
        "\n",
        "Ho : All the population variances are equal\n",
        "\n",
        "- Alternative hypothesis\n",
        "\n",
        "Ha : Atleast one variance is different from the rest"
      ]
    },
    {
      "cell_type": "code",
      "execution_count": 43,
      "id": "r_OKBuOiVA8P",
      "metadata": {
        "colab": {
          "base_uri": "https://localhost:8080/"
        },
        "id": "r_OKBuOiVA8P",
        "outputId": "7a77ab67-e7e8-4565-c4de-72716223e203"
      },
      "outputs": [
        {
          "name": "stdout",
          "output_type": "stream",
          "text": [
            "p-value :  0.46711357711340173\n"
          ]
        }
      ],
      "source": [
        "#Assumption 2: Homogeneity of Variance\n",
        "from scipy.stats import levene\n",
        "\n",
        "statistic, p_value = levene(new_landing['time_spent_on_the_page'][new_landing['language_preferred']=='English'],\n",
        "                            new_landing['time_spent_on_the_page'][new_landing['language_preferred']== 'French'],\n",
        "                            new_landing['time_spent_on_the_page'][new_landing['language_preferred']=='Spanish'])\n",
        "print('p-value : ', p_value)"
      ]
    },
    {
      "cell_type": "code",
      "execution_count": 44,
      "id": "PgBFYBfsWhsg",
      "metadata": {
        "colab": {
          "base_uri": "https://localhost:8080/"
        },
        "id": "PgBFYBfsWhsg",
        "outputId": "16106c64-b4bb-48e6-cf28-bae739b61e9e"
      },
      "outputs": [
        {
          "name": "stdout",
          "output_type": "stream",
          "text": [
            "As the p-value 0.46711357711340173 is greater than the level of significance, we fail to reject the null hypothesis.\n"
          ]
        }
      ],
      "source": [
        "if p_value < 0.05:\n",
        "    print(f'As the p-value {p_value} is less than the level of significance, we reject the null hypothesis.')\n",
        "else:\n",
        "    print(f'As the p-value {p_value} is greater than the level of significance, we fail to reject the null hypothesis.')"
      ]
    },
    {
      "attachments": {},
      "cell_type": "markdown",
      "id": "Mj1LpkgBNzC8",
      "metadata": {
        "id": "Mj1LpkgBNzC8"
      },
      "source": [
        "### Satisfied One-way ANOVA Test of Independence Assumptions:\n",
        "\n",
        "\n",
        "- The populations are normally distributed - Yes, the normality assumption is verified using the Shapiro-Wilk’s test.\n",
        "- Samples are independent simple random samples - Yes, we are informed that the collected sample is a simple random sample.\n",
        "- Population variances are equal - Yes, the homogeneity of variance assumption is verified using the Levene's test."
      ]
    },
    {
      "attachments": {},
      "cell_type": "markdown",
      "id": "mbD4gStaGJHP",
      "metadata": {
        "id": "mbD4gStaGJHP"
      },
      "source": [
        "### Step 5: Calculate the p-value"
      ]
    },
    {
      "cell_type": "code",
      "execution_count": 45,
      "id": "0oRzMdT2XLYO",
      "metadata": {
        "colab": {
          "base_uri": "https://localhost:8080/"
        },
        "id": "0oRzMdT2XLYO",
        "outputId": "ae2ee7b7-adbc-4352-dbed-44759868b3b2"
      },
      "outputs": [
        {
          "name": "stdout",
          "output_type": "stream",
          "text": [
            "p-value :  0.43204138694325955\n"
          ]
        }
      ],
      "source": [
        "#import the required function\n",
        "from scipy.stats import f_oneway\n",
        "\n",
        "# perform one-way anova test\n",
        "test_stat, p_value = f_oneway(new_landing.loc[new_landing['language_preferred']=='English','time_spent_on_the_page'],\n",
        "                              new_landing.loc[new_landing['language_preferred']=='French','time_spent_on_the_page'],\n",
        "                              new_landing.loc[new_landing['language_preferred']=='Spanish','time_spent_on_the_page'])\n",
        "print('p-value : ', p_value)"
      ]
    },
    {
      "attachments": {},
      "cell_type": "markdown",
      "id": "E0NT51WKGOo4",
      "metadata": {
        "id": "E0NT51WKGOo4"
      },
      "source": [
        "### Step 6: Compare the p-value with $\\alpha$"
      ]
    },
    {
      "cell_type": "code",
      "execution_count": 46,
      "id": "woKLM2i8XKXr",
      "metadata": {
        "colab": {
          "base_uri": "https://localhost:8080/"
        },
        "id": "woKLM2i8XKXr",
        "outputId": "c88de904-a5b7-4297-b4e8-2c9abb6c1c08"
      },
      "outputs": [
        {
          "name": "stdout",
          "output_type": "stream",
          "text": [
            "As the p-value 0.43204138694325955 is greater than the level of significance, we fail to reject the null hypothesis.\n"
          ]
        }
      ],
      "source": [
        "if p_value < 0.05:\n",
        "    print(f'As the p-value {p_value} is less than the level of significance, we reject the null hypothesis.')\n",
        "else:\n",
        "    print(f'As the p-value {p_value} is greater than the level of significance, we fail to reject the null hypothesis.')"
      ]
    },
    {
      "attachments": {},
      "cell_type": "markdown",
      "id": "JO8lXZmGGbm0",
      "metadata": {
        "id": "JO8lXZmGGbm0"
      },
      "source": [
        "### Step 7:  Draw inference"
      ]
    },
    {
      "attachments": {},
      "cell_type": "markdown",
      "id": "yAn7BmfYuELc",
      "metadata": {
        "id": "yAn7BmfYuELc"
      },
      "source": [
        "- The p-value (0.4320) is greater than the significance level(0.05), so we fail to reject the null hypothesis.\n",
        "\n",
        "- There is not enough statistcal evidence to conclude that the average time spent on the different landing pages differed by any significant amount based on the user's language (Spanish, English, and French)."
      ]
    },
    {
      "attachments": {},
      "cell_type": "markdown",
      "id": "3acbc947",
      "metadata": {
        "id": "3acbc947"
      },
      "source": [
        "## Conclusion and Business Recommendations"
      ]
    },
    {
      "attachments": {},
      "cell_type": "markdown",
      "id": "21fb1063",
      "metadata": {
        "id": "21fb1063"
      },
      "source": [
        "- From the visual and statistical analysis we can conclude about the research:\n",
        "\n",
        "\n",
        "   - The average time spent by users on the new landing page is higher than the old one.\n",
        "   - The Conversion rate is higher for the new landing page.\n",
        "   - The Conversion status does not depend on the language preference.\n",
        "   - The mean time spent on the new landing page does not differ by a significant level based on the users' language(Spanish, English and French).\n",
        "  \n",
        "- Based on these findings we can support that the decision of switching to the new landing page would have a positive impact in engagement and conversion rates for the business.\n",
        "\n",
        "\n",
        "- It is important to keep monitoring the performance of the new landing page over time to ensure that the positive trend and behavior continues.\n",
        "\n",
        "\n",
        "- If in the future, the idea of optimizing the landing page becomes a need, consider conducting additional tests to develop the idea. You can test with different content, copy, layouts, images, or more elements to evaluate if they have an impact on conversion rates or engagement metrics.\n",
        "\n",
        "\n",
        "- Always keep trying different ways to personalize the user experience based on language preference. While language preference may not have a direct impact on conversion rates right now, language is related to culture and when you provide content in the user's preferred language, it may have a positive impact that can help improve engagement and satisfaction overall.\n",
        "\n",
        "\n",
        "- Based on the success on the new landing page you can explore opportunities to expand into new markets or target new customers. This is worth investing in additional marketing efforts to reach new audiences.\n",
        "\n",
        "\n",
        "- The business should continue to focus on optimizing the user experience to drive even better results.\n",
        "\n"
      ]
    },
    {
      "attachments": {},
      "cell_type": "markdown",
      "id": "U0dAd4i0iCHo",
      "metadata": {
        "id": "U0dAd4i0iCHo"
      },
      "source": [
        "___"
      ]
    }
  ],
  "metadata": {
    "colab": {
      "collapsed_sections": [
        "SrLd-ICEmPSD",
        "9Vt1PLLqmXNn",
        "5VSGT96-jgJz",
        "a9HlsL_iyEml",
        "1uoxOJvfT_H8",
        "56b3dafd",
        "c7ee4907",
        "3f58c9a7",
        "2c183cd7",
        "d9affc84",
        "JYM_W9f0MPLQ",
        "JdXNAnZexEhD",
        "1pw0gKXu0GIC",
        "sPIOeJdkwr-_",
        "c53f6uTqGYb9",
        "vE4GbAHlOD3N",
        "XjHm3-GxFzCN",
        "cabpqvSGF5o3",
        "ZCB_qVblHVtT",
        "aUv0vYBjGaXI",
        "8_r5dU7jA5TI",
        "b8vBtrtyFxD6",
        "DRa-zIZBF3jA",
        "0jXuHRYxGD1-",
        "Mj1LpkgBNzC8"
      ],
      "provenance": []
    },
    "kernelspec": {
      "display_name": "Python 3",
      "language": "python",
      "name": "python3"
    },
    "language_info": {
      "codemirror_mode": {
        "name": "ipython",
        "version": 3
      },
      "file_extension": ".py",
      "mimetype": "text/x-python",
      "name": "python",
      "nbconvert_exporter": "python",
      "pygments_lexer": "ipython3",
      "version": "3.9.16"
    }
  },
  "nbformat": 4,
  "nbformat_minor": 5
}
